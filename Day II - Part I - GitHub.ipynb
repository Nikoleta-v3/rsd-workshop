{
 "cells": [
  {
   "cell_type": "code",
   "execution_count": 8,
   "metadata": {},
   "outputs": [],
   "source": [
    "import math "
   ]
  },
  {
   "cell_type": "code",
   "execution_count": null,
   "metadata": {},
   "outputs": [],
   "source": []
  },
  {
   "cell_type": "code",
   "execution_count": 20,
   "metadata": {},
   "outputs": [],
   "source": [
    "def f(u, v):\n",
    "    l = len(u)\n",
    "    k = 0\n",
    "    for i in range(l):\n",
    "        k += (u[i] - v[i]) ** 2\n",
    "    return math.sqrt(s)"
   ]
  },
  {
   "cell_type": "code",
   "execution_count": null,
   "metadata": {},
   "outputs": [],
   "source": []
  },
  {
   "cell_type": "code",
   "execution_count": 23,
   "metadata": {},
   "outputs": [],
   "source": [
    "def euclidean_distance(u, v):\n",
    "    \"\"\"\n",
    "    Computes the Euclidean distance between two vectos `u` and `v`.\n",
    "\n",
    "    The Euclidean distance between `u` and `v`, is defined as:\n",
    "\n",
    "    \\sqrt{(u_1 - v_1) ^ 2 + ... + (u_n - v_n) ^ 2}\n",
    "\n",
    "    Parameters\n",
    "    ----------\n",
    "    u : list\n",
    "        Input vector.\n",
    "    v : list\n",
    "        Input vector.\n",
    "\n",
    "    Returns\n",
    "    -------\n",
    "    euclidean : double\n",
    "        The Euclidean distance between vectors `u` and `v`.\n",
    "    \"\"\"\n",
    "    distance = 0\n",
    "    \n",
    "    for u_i, v_i in zip(u, v):\n",
    "        distance += (u_i - v_i) ** 2\n",
    "        \n",
    "    return math.sqrt(distance)"
   ]
  },
  {
   "cell_type": "code",
   "execution_count": 24,
   "metadata": {},
   "outputs": [
    {
     "data": {
      "text/plain": [
       "6.0"
      ]
     },
     "execution_count": 24,
     "metadata": {},
     "output_type": "execute_result"
    }
   ],
   "source": [
    "euclidean_distance(x, y)"
   ]
  },
  {
   "cell_type": "code",
   "execution_count": null,
   "metadata": {},
   "outputs": [],
   "source": []
  }
 ],
 "metadata": {
  "kernelspec": {
   "display_name": "Python 3",
   "language": "python",
   "name": "python3"
  },
  "language_info": {
   "codemirror_mode": {
    "name": "ipython",
    "version": 3
   },
   "file_extension": ".py",
   "mimetype": "text/x-python",
   "name": "python",
   "nbconvert_exporter": "python",
   "pygments_lexer": "ipython3",
   "version": "3.8.3"
  }
 },
 "nbformat": 4,
 "nbformat_minor": 4
}
