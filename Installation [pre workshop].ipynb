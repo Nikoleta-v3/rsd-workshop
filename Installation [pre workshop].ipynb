{
 "cells": [
  {
   "cell_type": "markdown",
   "metadata": {},
   "source": [
    "# Python \n",
    "\n",
    "This workshop uses Python as the example programming language. The ideans and principles covered extend and apply to any language.\n",
    "\n",
    "To install Python we will use Anaconda. Go to the following link https://www.anaconda.com/download/ and select Python 3.\n",
    "\n",
    "Following the download, run the installer as per usual on your machine. "
   ]
  },
  {
   "cell_type": "markdown",
   "metadata": {},
   "source": [
    "# Git\n",
    "\n",
    "Git is the version control software used in the workshop.\n",
    "\n",
    "Go to the following link and choose the correct version for your operating system: https://git-scm.com/downloads.\n",
    "\n",
    "You can check that git has been succefully installed by opening a terminal and typing `git`.\n",
    "\n",
    "If git is installed then you should see the following:\n",
    "\n",
    "<img src=\"static/git.png\" width=\"500\"/> "
   ]
  },
  {
   "cell_type": "markdown",
   "metadata": {},
   "source": [
    "# Editor\n",
    "\n",
    "There are several editors that allow us to edit files such as python scripts, LaTex files etc. For this workhop the suggested editor is VS code.\n",
    "\n",
    "Go to the following link https://code.visualstudio.com and click download.\n",
    "\n",
    "\n",
    "Once you have downloaded an editor you need to install a Python extension.\n",
    "\n",
    "For VS code bring up the Extensions view by clicking on the Extensions icon in the Activity Bar on the side of VS Code. There type Python and install the first extension the search returns.\n",
    "\n",
    "\n",
    "<img src=\"static/vs_extension.png\" width=\"800\"/> "
   ]
  },
  {
   "cell_type": "markdown",
   "metadata": {},
   "source": [
    "# GitHub\n",
    "\n",
    "\n",
    "You need to create an account on GitHub, a code sharing service used with Git.\n",
    "\n",
    "You can sign up here https://github.com.\n",
    "\n",
    "Github is free but if you apply for a student pack (as a student this is an offer available to you) you can have various extras: https://education.github.com/pack."
   ]
  },
  {
   "cell_type": "markdown",
   "metadata": {},
   "source": [
    "Check list:\n",
    "    \n",
    "- Python\n",
    "- Git\n",
    "- VS code (or any other editor)\n",
    "- GitHub"
   ]
  }
 ],
 "metadata": {
  "kernelspec": {
   "display_name": "Python 3",
   "language": "python",
   "name": "python3"
  },
  "language_info": {
   "codemirror_mode": {
    "name": "ipython",
    "version": 3
   },
   "file_extension": ".py",
   "mimetype": "text/x-python",
   "name": "python",
   "nbconvert_exporter": "python",
   "pygments_lexer": "ipython3",
   "version": "3.8.3"
  }
 },
 "nbformat": 4,
 "nbformat_minor": 4
}
