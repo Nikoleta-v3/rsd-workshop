{
 "cells": [
  {
   "cell_type": "markdown",
   "metadata": {},
   "source": [
    "# Introduction to Version Control with GIT"
   ]
  },
  {
   "cell_type": "markdown",
   "metadata": {
    "slideshow": {
     "slide_type": "slide"
    }
   },
   "source": [
    "## Introduction\n",
    "\n",
    "**Version control** is a system which:\n",
    "\n",
    "- records all files that make up a project (down to the line) over time\n",
    "- tracks their development\n",
    "- provides the ability to recall previous versions of files.\n",
    "- facilitates collaborative editing of files by different parties. \n",
    "\n",
    "This type of system is essential for ensuring reproducibility of scientific research\n",
    "\n",
    "Why should I care obout version control? Probably most of us have at some point in their career (some earlier, some later) come across as situation where they had to write document that evolved over time.It starts out simple, than more and more content comes in, often content needs to be reorganized, certain parts will be deleted or moved to other places. Changes introduced are reverted and changed in a different way etc. More often than not one wishes to travel back in time to an earlier stage in the history of the project. "
   ]
  },
  {
   "cell_type": "markdown",
   "metadata": {},
   "source": [
    "\n",
    "There are a number of popular tools for version control, the particular tool we will use is **git**."
   ]
  },
  {
   "cell_type": "markdown",
   "metadata": {
    "slideshow": {
     "slide_type": "slide"
    }
   },
   "source": [
    "A \"poor man's version control\" system is shown in this directory listing:"
   ]
  },
  {
   "cell_type": "markdown",
   "metadata": {},
   "source": [
    "```shell\n",
    "ls ~/poor_VC\n",
    "\n",
    "paper_final.tex         paper_v2_richard.tex\n",
    "paper_really_final.tex  paper_v2.tex\n",
    "paper.tex               paper_v3_with_richards_comments.tex\n",
    "paper_v1.tex\n",
    "```"
   ]
  },
  {
   "attachments": {},
   "cell_type": "markdown",
   "metadata": {},
   "source": [
    "GIT does away with different file names for different versions. You will always see the same filename in your projects directory. Git will save snapshots of all (tracked) files on request and you will be able to navigate back an forth through the history that any tracked file went through. Moreover, you *branch* off\n",
    "to test a new idea, switch back to the original branch (called the *master*) and merge branches that you or a collaborator created. One such git workflow is depicted below:\n",
    "\n",
    "![image.png](attachment:image.png)  \n",
    "\n",
    "Source: https://git-scm.com/book/en/v2"
   ]
  },
  {
   "cell_type": "markdown",
   "metadata": {},
   "source": [
    "In this example, the developer started to work on a file and created three snapshots (*commits* in git-speak): C0, C1, C2. She then wants to try out a new, highly experimental feature that she is not sure if it will break the code. So she creates a new branch (iss53) and commits C3 to it.\n",
    "Then, she reckognizes that something must be changed in the main line of development, so she switches back to the master branch and commits C4.\n",
    "Again back to the feature branch *iss53* and commit C5. At this point, she wants to integrate the new feature from branch *iss53* into the *master* branch. The merge\n",
    "point becomes a new *commit*, C6. And so forth. At no point did she have to rename or backup her files, everything is handled by git."
   ]
  },
  {
   "cell_type": "markdown",
   "metadata": {},
   "source": [
    "The git version control system can be thought of as a iterative workflow where paper documents move between various places:\n",
    "\n",
    "![git cycle](https://git-scm.com/book/en/v2/images/lifecycle.png)\n",
    "\n",
    "- The modified state: The document is on our desk before us and we edit (write) it.\n",
    "- Staged: When our task on the document is done or we have to work on sth else, we put the file into a shelf that has a label \"Keep\" on it. It can be thought of as a stash of documents that we need to keep within reach but are not actively working on it. From that stash, we can easily pull the document back to our desk and continue working on it.\n",
    "- Committed: At some point, we would like to take a snapshot of the document, so we can re-open precisely the current state at a later point in time. In a paper world, we would take the stash of documents to the copy machine, make a copy from each document and put the copy into a file cabinet, tagged with a date, our name, and a remark telling us what the change of this copy with respect to the previous copy is. The original document is now in a \"unmodified\" state (with respect to the last backup copy). \n",
    "\n",
    "We then take the document back to our desk and continue working on it: It is then again in the \"modified state\".\n",
    " "
   ]
  },
  {
   "attachments": {},
   "cell_type": "markdown",
   "metadata": {},
   "source": [
    "![image.png](static/track.png)"
   ]
  },
  {
   "cell_type": "markdown",
   "metadata": {},
   "source": [
    "# Setting up git\n",
    "\n",
    "Initially we need to set up git. \n",
    "\n",
    "git keeps track of the entire history of a project. This does not only mean keeping track of what was done but also who did it. So we start by telling git who we are by running the following two commands:\n",
    "\n",
    "```shell\n",
    "$ git config --global user.name \"Your Name\"\n",
    "$ git config --global user.email \"Your Email\"\n",
    "```\n",
    "\n",
    "**Note** this is not data that is being collected by any cloud service or similar. It just stays with your project.\n",
    "\n",
    "**Windows**\n",
    "Note that all these commands work on the anaconda prompt but if you want to use tab completion you can use the git bash command line specifically for git.\n",
    "\n",
    "\n",
    "Moreover, we are going to set [Nano](https://www.nano-editor.org) as the default editor for git. For unix you can use the following command:\n",
    "\n",
    "```shell\n",
    "$ git config --global core.editor \"nano\"\n",
    "```\n",
    "\n",
    "We are going to use Nano later in order to write a commit message.\n",
    "\n"
   ]
  },
  {
   "cell_type": "markdown",
   "metadata": {},
   "source": [
    "# Initialising a git repository\n",
    "\n",
    "In order to demonstrate how version control with git works we are going to use the `rsd-workshop` folder we created before.\n",
    "\n",
    "We need tell git to start keeping an eye on this repository (folder/project). While in the `rsd-workshop` directory type:\n",
    "\n",
    "```shell\n",
    "$ git init\n",
    "```\n",
    "\n",
    "You should then see a message saying that you have successfully initialized a git repository."
   ]
  },
  {
   "cell_type": "markdown",
   "metadata": {},
   "source": [
    "# Staging and committing changes\n",
    "\n",
    "To see the status of the repository we just initialized type:\n",
    " \n",
    "```shell\n",
    "$ git status\n",
    "```\n",
    "\n",
    "We should see something like:\n",
    "\n",
    "![](static/git_status.png)"
   ]
  },
  {
   "cell_type": "markdown",
   "metadata": {},
   "source": [
    "There are various pieces of useful information here, first of all that `addition.py`, `if-statement.py` and `while-loops.py` are not currently tracked files.\n",
    "\n",
    "We are now going to track the `addition.py` file:\n",
    "\n",
    "```shell\n",
    "$ git add addition.py\n",
    "```\n",
    "\n",
    "If we run git status again we see:\n",
    "\n",
    "![](static/git_status_after_add.png)"
   ]
  },
  {
   "attachments": {},
   "cell_type": "markdown",
   "metadata": {},
   "source": [
    "We have propagated our file from the \"Untracked\" to the \"Staged\" status.  \n",
    "![image.png](static/staged.png)"
   ]
  },
  {
   "cell_type": "markdown",
   "metadata": {},
   "source": [
    "So the `addition.py` file is now ready to be \"committed\".\n",
    "\n",
    "```shell\n",
    "$ git commit\n",
    "```\n",
    "\n",
    "When doing this, a text editor should open up prompting you to write what is called a commit message. In our case the text editor that opens is Nano. \n",
    "\n",
    "For the purposes of using git Nano is more than a sufficient editor, all you need to know how to do is:\n",
    "\n",
    "- Write in Nano: just type;\n",
    "- Save in Nano: Ctrl + O;\n",
    "- Quit Nano: Ctrl + X.\n"
   ]
  },
  {
   "cell_type": "markdown",
   "metadata": {},
   "source": [
    "Type the following as the first commit message:\n",
    "\n",
    "```shell\n",
    "Add addition script\n",
    "\n",
    "Addition script contains a function which adds two numbers.\n",
    "```\n",
    "\n",
    "save and exit.\n",
    "\n",
    "git should confirm that you have successfully made your first commit.\n",
    "\n",
    "\n",
    "![](static/git_commit.png)\n"
   ]
  },
  {
   "cell_type": "markdown",
   "metadata": {},
   "source": [
    "**Note** A commit message is made up of 2 main components:\n",
    "\n",
    "```shell\n",
    "<Title of the commit>\n",
    "\n",
    "<Description of what was done>\n",
    "```\n",
    "\n",
    "- The title should be a description in the form of \"if this commit is applied `<title of the commit>` will happen\". The convention is for this to be rather short and to the point.\n",
    "- The description can be as long as needed and should be a helpful explanation of what is happening.\n",
    "\n",
    "A commit is a snapshot that git makes of your project, you should use this at meaningful steps of the progress of a project."
   ]
  },
  {
   "attachments": {},
   "cell_type": "markdown",
   "metadata": {},
   "source": [
    "Now, our file is in the \"Unmodified\" state, because it is identical to the _copy_ that we filed away to our \"file cabinet\" (the location where git stores the snapshots).\n",
    "\n",
    "![image.png](static/unmodified.png)"
   ]
  },
  {
   "cell_type": "markdown",
   "metadata": {},
   "source": [
    "# Ignoring files\n",
    "\n",
    "There are still two files in the repository that are currently not being tracted. These are `if-statement.py` and `while-loops.py`. \n",
    "\n",
    "We do not want to keep tract of those files as they are not related to our project.\n",
    "\n",
    "To tell git to ignore these files we will add them to a blank file entitled `.gitignore`.\n",
    "\n",
    "Open your editor and open a new file (`File > New file`) and type:\n",
    "\n",
    "```shell\n",
    "if-statement.py\n",
    "while-loops.py\n",
    "```\n",
    "\n",
    "Save that file as `.gitignore` and then run:\n",
    "\n",
    "```shell\n",
    "$ git status \n",
    "```\n",
    "\n",
    "We see now that `git` is ignoring those 2 files but is aware of the `.gitignore` file.\n",
    "\n",
    "Let us add and commit that file:\n",
    "\n",
    "```shell\n",
    "$ git add .gigignore\n",
    "$ git commit\n",
    "```\n",
    "\n",
    "Use `Add .gitignore` as the commit message."
   ]
  },
  {
   "cell_type": "markdown",
   "metadata": {},
   "source": [
    "Now if we run `git status`, we see a message saying that everything in our repository is tracked and up to date."
   ]
  },
  {
   "cell_type": "markdown",
   "metadata": {},
   "source": [
    "# Tracking changes to files\n",
    "\n",
    "\n",
    "Let's assume that we want to change the function `add_two_numbers` to `add_two_even_numbers`. So that the function adds two even numbers but prints a warning if not both numbers are even.\n",
    "\n",
    "\n",
    "Change the file `addition.py` to look like this:\n",
    "\n",
    "```python\n",
    "# addition.py\n",
    "def add_two_even_numbers(a, b):\n",
    "    if a % 2 == 0 and b % 2 == 0:\n",
    "        return a + b\n",
    "    else:\n",
    "        print(\"Please use even numbers.\")\n",
    "    \n",
    "print(add_two_even_numbers(4, 6))\n",
    "```\n",
    "\n",
    "\n",
    "Save your file and then run:\n",
    "\n",
    "```shell\n",
    "$ git status\n",
    "```\n",
    "\n",
    "We now see that git is aware of a change to our file:\n",
    "\n",
    "![](static/modified.png)"
   ]
  },
  {
   "attachments": {},
   "cell_type": "markdown",
   "metadata": {},
   "source": [
    "Our file is now in the modified state, as `git status` will tell us.  \n",
    "\n",
    "![image.png](static/to_modified.png)"
   ]
  },
  {
   "cell_type": "markdown",
   "metadata": {},
   "source": [
    "To see what has been modified you need to type:\n",
    "\n",
    "```shell\n",
    "$ git diff addition\n",
    "```\n",
    "and press `q` to exit.\n",
    "\n",
    "To \"stage\" the file for a commit we use `git add` again:\n",
    "\n",
    "```shell\n",
    "$ git add addition.py\n",
    "```\n",
    "\n",
    "Now let us commit:\n",
    "\n",
    "```shell\n",
    "$ git commit\n",
    "```\n",
    "\n",
    "With the following commit message:\n",
    "\n",
    "```\n",
    "Change add two numbers function to add two even numbers\n",
    "```\n",
    "\n",
    "Finally, we can check the status: git status to confirm that everything has been done correctly.    "
   ]
  },
  {
   "cell_type": "markdown",
   "metadata": {},
   "source": [
    "# Exploring history"
   ]
  },
  {
   "cell_type": "markdown",
   "metadata": {},
   "source": [
    "`git` allows us to see the history of a project and in some cases even change it. To view the history of a repository type:\n",
    "\n",
    "```shell\n",
    "$ git log\n",
    "```\n",
    "\n",
    "This displays the full log of the project:\n",
    "\n",
    "![](static/git_log.png)\n",
    "\n",
    "\n",
    "We see that there are 3 commits there, each with a seemingly random set of numbers and characters. This set of characters is called a \"hash\".\n",
    "\n",
    "The first commit with title `adds addition script` has hash: aab73629642568b9be5ca5faa5e091ea9a629d67.\n",
    "\n",
    "**Note** that on your machines this hash will be different, in fact every hash is mathematically guaranteed to be unique, thus it is uniquely assigned to the changes made.\n",
    "\n",
    "Hashes can be very useful, e.g. to re-create an earlier state of the project."
   ]
  },
  {
   "cell_type": "markdown",
   "metadata": {},
   "source": [
    "## Time travel: Checking out a (previous) commit"
   ]
  },
  {
   "cell_type": "markdown",
   "metadata": {},
   "source": [
    "The `git checkout` commands allows us to revert our file(s) to a state from an earlier commit.\n",
    "Let's try this out and check out the commit just before we made the last change.\n",
    "Find the commit hash to revert to from `git log` first. Highlight the hash and copy it (Ctrl-C). Then paste into the `git checkout` command. It's actually sufficient to take only the first 8 characters from the hash. Remember that your hash will look different from the example."
   ]
  },
  {
   "cell_type": "markdown",
   "metadata": {},
   "source": [
    "```shell\n",
    "$ git checkout fbb2cd03\n",
    "```"
   ]
  },
  {
   "cell_type": "markdown",
   "metadata": {},
   "source": [
    "The message about \"detached HEAD\" means that our file(s) have now reverted to a state from an earlier commit. Any changes to our files would not be commited directy\n",
    "back to our branch (more about branches further below)."
   ]
  },
  {
   "cell_type": "markdown",
   "metadata": {},
   "source": [
    "The history reported by `git log` now contains only the commits before the checked out commit as you can see by running\n",
    "\n",
    "```shell\n",
    "$ git log\n",
    "```\n",
    "\n",
    "Open the file `addition.py` and confirm that it is again in the state before we changed `add_two_numbers()` to `add_two_even_numbers()`."
   ]
  },
  {
   "cell_type": "markdown",
   "metadata": {},
   "source": [
    "## Check out the tip of the branch (aka HEAD)"
   ]
  },
  {
   "cell_type": "markdown",
   "metadata": {},
   "source": [
    "To go back to the \"tip of the branch\" (the state where we left from before checking out an earlier commit) we run"
   ]
  },
  {
   "cell_type": "markdown",
   "metadata": {},
   "source": [
    "```shell\n",
    "$ git checkout master\n",
    "```"
   ]
  },
  {
   "cell_type": "markdown",
   "metadata": {},
   "source": [
    "Confirm we are back on the master branch:\n",
    "\n",
    "```shell\n",
    "$ git status\n",
    "```"
   ]
  },
  {
   "cell_type": "markdown",
   "metadata": {},
   "source": [
    "Check the history:\n",
    "\n",
    "```shell\n",
    "$ git log\n",
    "```"
   ]
  },
  {
   "cell_type": "markdown",
   "metadata": {},
   "source": [
    "# Creating branches\n",
    "\n",
    "Branches allow us to work on different versions of the same file in parallel, which is very important when developing software, but also when we do research."
   ]
  },
  {
   "cell_type": "markdown",
   "metadata": {},
   "source": [
    "When typing `git status` we have seen that one piece of information regularly given was:\n",
    "\n",
    "```shell\n",
    "On branch master\n",
    "```\n",
    "\n",
    "This is telling us which branch of \"history\" we are currently on. We can view all branches with the command:\n",
    "\n",
    "```shell\n",
    "$ git branch\n",
    "```\n",
    "\n",
    "This shows:\n",
    "\n",
    "```\n",
    "* master\n",
    "```\n",
    "\n",
    "\n",
    "\n",
    "So currently there is only one branch called master. Let us create a new branch called `implement-add-odd-numbers`:\n",
    "\n",
    "```shell\n",
    "$ git branch implement-add-odd-numbers\n",
    "```\n",
    "\n",
    "When we now type `git branch` we see that 2 branches exist but the active branch is indicated by *:\n",
    " \n",
    "```\n",
    "implement-add-odd-numbers\n",
    "* master\n",
    "\n",
    "```\n",
    "\n",
    "To switch to this new branch, the command is:\n",
    "\n",
    "```shell\n",
    "$ git checkout implement-add-odd-numbers\n",
    "```\n",
    "\n",
    "Run `git branch` and then `git status` to see how this has worked."
   ]
  },
  {
   "cell_type": "markdown",
   "metadata": {},
   "source": [
    "While we are on this branch we are going to add a new function in the `addition.py` and that is a function that adds two odd numbers.\n",
    "\n",
    "Add the following code to `addition.py`:\n",
    "\n",
    "```python\n",
    "def add_two_odd_numbers(a, b):\n",
    "    if a % 2 != 0 and b % 2 != 0:\n",
    "        return a + b\n",
    "    print(\"Please use odd numbers.\")\n",
    "\n",
    "print(add_two_odd_numbers(1, 3))\n",
    "\n",
    "```"
   ]
  },
  {
   "cell_type": "markdown",
   "metadata": {},
   "source": [
    "Let us add and commit this:\n",
    "    \n",
    "```shell\n",
    "$ git add addition\n",
    "$ git commit \n",
    "```\n",
    "\n",
    "Commit message:\n",
    "\n",
    "```\n",
    "Implement function for adding odd numbers\n",
    "```"
   ]
  },
  {
   "cell_type": "markdown",
   "metadata": {},
   "source": [
    "Let us now return to the master branch.\n",
    "\n",
    "```shell\n",
    "$ git checkout master\n",
    "```\n",
    "\n",
    "If you open the file `addition.py` you will see that the latest change is not there. That is because this change was done in a different branch.\n",
    "\n",
    "Branches allow us to bring work from different people done in parallel and *merge* them to the main branch of the repository. This can be done locally using `git` and also on the cloud, e.g. on GitHub or GitLab. This is demonstrated in the material of Day II in the GitLab example."
   ]
  },
  {
   "cell_type": "markdown",
   "metadata": {},
   "source": [
    "###  Merging locally\n",
    "The `git merge` command integrates changes from a branch into the currently checked out branch. Before merging, make sure to have checked out \n",
    "the target branch. In our example we merge changes from the \"implement-add-odd-numbers\" branch into the \"master\" branch."
   ]
  },
  {
   "cell_type": "markdown",
   "metadata": {},
   "source": [
    "Before merging, always make sure you are on the *target* branch:\n",
    "\n",
    "```shell\n",
    "$ git checkout master\n",
    "\n",
    "Switched to branch 'master'\n",
    "```"
   ]
  },
  {
   "cell_type": "markdown",
   "metadata": {},
   "source": [
    "Now use the `git merge` command to bring in the changes from the \"implement-add-odd-numbers\" branch.\n",
    "It is good practice to always append the `--no-ff` flag to `git merge` to create a dedicated merge commit. In this way one can later identify changes in the code that are a result from a merge."
   ]
  },
  {
   "cell_type": "markdown",
   "metadata": {},
   "source": [
    "```shell\n",
    "$ git merge implement-add-odd-numbers --no-ff \n",
    "```"
   ]
  },
  {
   "cell_type": "markdown",
   "metadata": {},
   "source": [
    "In your editor, the commit message will already be present, you can leave it as is or add more detailed information. Save and close the editor."
   ]
  },
  {
   "cell_type": "markdown",
   "metadata": {},
   "source": [
    "Let's now look at our history. I will append some flags to `git log` here that will visualize the tree-like structure of our history:"
   ]
  },
  {
   "cell_type": "markdown",
   "metadata": {},
   "source": [
    "```shell\n",
    "$ git log --pretty=oneline --graph --abbrev-commit\n",
    "\n",
    "*   c1ba40d (HEAD -> master) Merge branch 'implement-add-odd-numbers'\n",
    "|\\  \n",
    "| * fadd60e (implement-add-odd-numbers) implement function for adding odd numbers\n",
    "|/  \n",
    "* d80f1c9 change add two numbers function to add two even numbers\n",
    "* 3fca9d1 Add .gitignore\n",
    "* 8487ec4 Add addition script\n",
    "```"
   ]
  },
  {
   "cell_type": "markdown",
   "metadata": {},
   "source": [
    "### Delete feature branch \n",
    "If we are certain that the feature branch `implement-add-odd-numbers` will no longer be used, we can delete it:"
   ]
  },
  {
   "cell_type": "markdown",
   "metadata": {},
   "source": [
    "```shell\n",
    "$ git branch -D implement-add-odd-numbers\n",
    "```"
   ]
  },
  {
   "cell_type": "markdown",
   "metadata": {},
   "source": [
    "`git branch` will tell us that *master* is now our only branch again."
   ]
  },
  {
   "cell_type": "markdown",
   "metadata": {},
   "source": [
    "```shell\n",
    "$ git branch\n",
    "```"
   ]
  },
  {
   "cell_type": "markdown",
   "metadata": {},
   "source": [
    "# Conclusions\n",
    "\n",
    "This is the end of Day 1 of our workshop. Here's what you learned today:\n",
    "\n",
    "* Using the command line to navigate the directory tree and create directories.\n",
    "* First steps in python programming\n",
    "* Using git for version control: \n",
    "    - The git cycle: `add`, `commit`, `push`\n",
    "    - Going back and forth in history\n",
    "    - Branching: list, create, merge, delete"
   ]
  },
  {
   "cell_type": "markdown",
   "metadata": {},
   "source": [
    "# Outlook\n",
    "On day 2 of the workshop, we will cover:\n",
    "* Best practices for software development: Documentation and testing\n",
    "* Git in the cloud: GitLab, Merge requests, `git push` and `git pull`\n",
    "* Continuous integration: Automated testing\n",
    "* Gitlab pages: Publish your online reference manual"
   ]
  },
  {
   "cell_type": "markdown",
   "metadata": {},
   "source": [
    "## Time travel: Checking out a (previous) commit"
   ]
  },
  {
   "cell_type": "markdown",
   "metadata": {},
   "source": [
    "The `git checkout` commands allows us to revert our file(s) to a state from an earlier commit. Find the commit hash to revert to from `git log` first. Highlight the hash and copy it (Ctrl-C). Then paste into the `git checkout` command. It's actually sufficient to take only the first 8 characters from the hash."
   ]
  },
  {
   "cell_type": "markdown",
   "metadata": {},
   "source": [
    "```shell\n",
    "$ git checkout fbb2cd03\n",
    "```"
   ]
  },
  {
   "cell_type": "markdown",
   "metadata": {},
   "source": [
    "The message about \"detached HEAD\" means that our file(s) have now reverted to a state from an earlier commit. Any changes to our files would not be commited directy\n",
    "back to our branch (more about branches further below)."
   ]
  },
  {
   "cell_type": "markdown",
   "metadata": {},
   "source": [
    "The history reported by `git log` now contains only the commits before the checked out commit as you can see by running\n",
    "\n",
    "```shell\n",
    "$ git log\n",
    "```"
   ]
  },
  {
   "cell_type": "markdown",
   "metadata": {},
   "source": [
    "## Check out the tip of the branch (aka HEAD)"
   ]
  },
  {
   "cell_type": "markdown",
   "metadata": {},
   "source": [
    "To go back to the \"tip of the branch\" (the state where we left from before checking out an earlier commit) we run"
   ]
  },
  {
   "cell_type": "markdown",
   "metadata": {},
   "source": [
    "```shell\n",
    "$ git checkout master\n",
    "```"
   ]
  },
  {
   "cell_type": "markdown",
   "metadata": {},
   "source": [
    "```shell\n",
    "$ git status\n",
    "```"
   ]
  },
  {
   "cell_type": "markdown",
   "metadata": {},
   "source": [
    "```shell\n",
    "$ git log\n",
    "```"
   ]
  },
  {
   "cell_type": "markdown",
   "metadata": {},
   "source": [
    "###  Merging locally\n",
    "The `git merge` command integrates changes from a branch into the currently checked out branch. Before merging, make sure to have checked out \n",
    "the target branch. In our example we merge changes from the \"implement-add-odd-numbers\" branch into the \"master\" branch."
   ]
  },
  {
   "cell_type": "markdown",
   "metadata": {},
   "source": [
    "```shell\n",
    "$ git checkout master\n",
    "\n",
    "Switched to branch 'master'\n",
    "```"
   ]
  },
  {
   "cell_type": "markdown",
   "metadata": {},
   "source": [
    "Now use the `git merge` command to bring in the changes from the \"implement-add-odd-numbers\" branch.\n",
    "It is good practice to always append the `--no-ff` flag to `git merge` to create a dedicated merge commit. In this way one can later identify changes in the code that are a result from a merge."
   ]
  },
  {
   "cell_type": "markdown",
   "metadata": {},
   "source": [
    "```shell\n",
    "$ git merge implement-add-odd-numbers --no-ff -m \"Merge implement-add-odd-numbers\"\n",
    "```"
   ]
  },
  {
   "cell_type": "markdown",
   "metadata": {},
   "source": [
    "Let's now look at our history. I will append some flags to `git log` here that will visualize the tree-like structure of our history:"
   ]
  },
  {
   "cell_type": "markdown",
   "metadata": {},
   "source": [
    "```shell\n",
    "$ git log --pretty=oneline --graph --abbrev-commit\n",
    "```"
   ]
  },
  {
   "cell_type": "markdown",
   "metadata": {},
   "source": [
    "### Delete feature branch \n",
    "If we are certain that the feature branch `iss53` will no longer be used, we can delete it:"
   ]
  },
  {
   "cell_type": "markdown",
   "metadata": {},
   "source": [
    "```shell\n",
    "$ git branch -D implement-add-odd-numbers\n",
    "```"
   ]
  },
  {
   "cell_type": "markdown",
   "metadata": {},
   "source": [
    "`git branch` will tell us that master is now our only branch again."
   ]
  },
  {
   "cell_type": "markdown",
   "metadata": {},
   "source": [
    "```shell\n",
    "$ git branch\n",
    "```"
   ]
  }
 ],
 "metadata": {
  "kernelspec": {
   "display_name": "Python 3",
   "language": "python",
   "name": "python3"
  },
  "language_info": {
   "codemirror_mode": {
    "name": "ipython",
    "version": 3
   },
   "file_extension": ".py",
   "mimetype": "text/x-python",
   "name": "python",
   "nbconvert_exporter": "python",
   "pygments_lexer": "ipython3",
   "version": "3.8.3"
  }
 },
 "nbformat": 4,
 "nbformat_minor": 4
}
