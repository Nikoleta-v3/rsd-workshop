{
 "cells": [
  {
   "cell_type": "markdown",
   "metadata": {},
   "source": [
    "# Introduction to git"
   ]
  },
  {
   "cell_type": "markdown",
   "metadata": {},
   "source": [
    "**Version control** is a system which:\n",
    "\n",
    "- records all files that make up a project (down to the line) over time\n",
    "- tracks their development\n",
    "- provides the ability to recall previous versions of files.\n",
    "\n",
    "This type of system is essential for ensuring reproducibility of scientific research\n",
    "\n",
    "There are a number of popular tools for version control, the particular tool we will use is **git**."
   ]
  },
  {
   "cell_type": "markdown",
   "metadata": {},
   "source": [
    "# Setting up git\n",
    "\n",
    "Initially we need to set up git. \n",
    "\n",
    "git keeps track of the entire history of a project. This does not only mean keeping track of what was done but also who did it. So we start by telling git who we are by running the following two commands:\n",
    "\n",
    "```shell\n",
    "$ git config --global user.name \"Your Name\"\n",
    "$ git config --global user.email \"Your Email\"\n",
    "```\n",
    "\n",
    "**Note** this is not data that is being collected by any cloud service or similar. It just stays with your project.\n",
    "\n",
    "**Windows**\n",
    "Note that all these commands work on the anaconda prompt but if you want to use tab completion you can use the git bash command line specifically for git."
   ]
  },
  {
   "cell_type": "markdown",
   "metadata": {},
   "source": [
    "# Initialising a git repository\n",
    "\n",
    "In order to demonstrate how version control with git works we are going to use the `rsd-workshop` folder we created before.\n",
    "\n",
    "We need tell git to start keeping an eye on this repository (folder/project). While in the `rsd-workshop` directory type:\n",
    "\n",
    "```shell\n",
    "$ git init\n",
    "```\n",
    "\n",
    "You should then see a message saying that you have successfully initialised a git repository."
   ]
  },
  {
   "cell_type": "markdown",
   "metadata": {},
   "source": [
    "# Staging and committing changes\n",
    "\n",
    "To see the status of the repository we just initialised type:\n",
    " \n",
    "```shell\n",
    "$ git status\n",
    "```\n",
    "\n",
    "We should see something like:\n",
    "\n",
    "<img src=\"static/git_status.png\" width=\"600\"/>"
   ]
  },
  {
   "cell_type": "markdown",
   "metadata": {},
   "source": [
    "There are various pieces of useful information here, first of all that `addition.py`, `if-statement.py` and `while-loops.py` are not currently tracked files.\n",
    "\n",
    "We are now going to track the `addition.py` file:\n",
    "\n",
    "```shell\n",
    "$ git add addition.py\n",
    "```\n",
    "\n",
    "If we run git status again we see:\n",
    "\n",
    "<img src=\"static/git_status_after_add.png\" width=\"600\"/> "
   ]
  },
  {
   "cell_type": "markdown",
   "metadata": {},
   "source": [
    "So the `addition.py` file is now ready to be \"committed\".\n",
    "\n",
    "```shell\n",
    "$ git commit\n",
    "```\n",
    "\n",
    "When doing this, a text editor should open up prompting you to write what is called a commit message. Your machine will probably have one of the following command line editors set up as a default:\n",
    "\n",
    "- [Nano](https://www.nano-editor.org)\n",
    "- [Vim](https://www.vim.org)\n",
    "\n",
    "For the purposes of using git these are more than sufficient, all you need to know how to do is:\n",
    "\n",
    "- Write (in Nano: just type, in Vim: press i and type);\n",
    "- Save (in Nano: Ctrl + O, in Vim: press esc, then :, then w + Enter);\n",
    "- Quit (in Nano: Ctrl + X, in Vim: press esc, then :, then q + Enter).\n",
    "\n",
    "**Note** it is possible to set up a different default editor but instructions for this can be machine specific.\n",
    "\n",
    "For unix you can use the following command:\n",
    "\n",
    "```shell\n",
    "$ git config --global core.editor \"nano\"\n",
    "```"
   ]
  },
  {
   "cell_type": "markdown",
   "metadata": {},
   "source": [
    "Type the following as the first commit message:\n",
    "\n",
    "```shell\n",
    "Add addition script\n",
    "\n",
    "Addition script contains a function which adds two numbers.\n",
    "```\n",
    "\n",
    "save and exit.\n",
    "\n",
    "git should confirm that you have successfully made your first commit.\n",
    "\n",
    "\n",
    "<img src=\"static/git_commit.png\" width=\"500\"/> \n"
   ]
  },
  {
   "cell_type": "markdown",
   "metadata": {},
   "source": [
    "**Note** A commit message is made up of 2 main components:\n",
    "\n",
    "```shell\n",
    "<Title of the commit>\n",
    "\n",
    "<Description of what was done>\n",
    "```\n",
    "\n",
    "- The title should be a description in the form of \"if this commit is applied `<title of the commit>` will happen\". The convention is for this to be rather short and to the point.\n",
    "- The description can be as long as needed and should be a helpful explanation of what is happening.\n",
    "\n",
    "A commit is a snapshot that git makes of your project, you should use this at meaningful steps of the progress of a project."
   ]
  },
  {
   "cell_type": "markdown",
   "metadata": {},
   "source": [
    "# Ignoring files\n",
    "\n",
    "There are still two files in the repository that are currently not being tracted. These are `if-statement.py` and `while-loops.py`. \n",
    "\n",
    "We do not want to keep tract of those files as they are not related to our project.\n",
    "\n",
    "To tell git to ignore these files we will add them to a blank file entitled `.gitignore`.\n",
    "\n",
    "Open your editor and open a new file (`File > New file`) and type:\n",
    "\n",
    "```shell\n",
    "if-statement.py\n",
    "while-loops.py\n",
    "```\n",
    "\n",
    "Save that file as `.gitignore` and then run:\n",
    "\n",
    "```shell\n",
    "$ git status \n",
    "```\n",
    "\n",
    "We see now that `git` is ignoring those 2 files but is aware of the `.gitignore` file.\n",
    "\n",
    "Let us add and commit that file:\n",
    "\n",
    "```shell\n",
    "$ git add .gigignore\n",
    "$ git commit\n",
    "```\n",
    "\n",
    "Use `Add .gitignore` as the commit message."
   ]
  },
  {
   "cell_type": "markdown",
   "metadata": {},
   "source": [
    "Now if we run `git status`, we see a message saying that everything in our repository is tracked and up to date."
   ]
  },
  {
   "cell_type": "markdown",
   "metadata": {},
   "source": [
    "# Tracking changes to files\n",
    "\n",
    "\n",
    "Let's assume that we want to change the function `add_two_numbers` to `add_two_even_numbers`. So that the function can adds two numbers that are even.\n",
    "\n",
    "\n",
    "Change the file `addition.py` to look like this:\n",
    "\n",
    "```python\n",
    "def add_two_even_numbers(a, b):\n",
    "    if a % 2 == 0 and b % 2 == 0:\n",
    "        return a + b\n",
    "    else:\n",
    "        print(\"Please use even numbers.\")\n",
    "    \n",
    "print(add_two_even_numbers(4, 6))\n",
    "```\n",
    "\n",
    "\n",
    "Save your file and then run:\n",
    "\n",
    "```shell\n",
    "$ git status\n",
    "```\n",
    "\n",
    "We now see that git is aware of a change to our file:\n",
    "\n",
    "<img src=\"static/modified.png\" width=\"600\"/> \n",
    "\n",
    "To see what has been modified you need to type:\n",
    "\n",
    "```shell\n",
    "$ git diff addition\n",
    "```\n",
    "and press `q` to exit.\n",
    "\n",
    "To \"stage\" the file for a commit we use git add again:\n",
    "\n",
    "```shell\n",
    "$ git add addition\n",
    "```\n",
    "\n",
    "Now let us commit:\n",
    "\n",
    "```shell\n",
    "$ git commit\n",
    "```\n",
    "\n",
    "With the following commit message:\n",
    "\n",
    "```\n",
    "Change add two numbers function to add two even numbers\n",
    "```\n",
    "\n",
    "Finally, we can check the status: git status to confirm that everything has been done correctly.    "
   ]
  },
  {
   "cell_type": "markdown",
   "metadata": {},
   "source": [
    "# Exploring history"
   ]
  },
  {
   "cell_type": "markdown",
   "metadata": {},
   "source": [
    "`git` allows us to see the history of a project and in some cases even change it. To view the history of a repository type:\n",
    "\n",
    "```shell\n",
    "$ git log\n",
    "```\n",
    "\n",
    "This displays the full log of the project:\n",
    "\n",
    "<img src=\"static/git_log.png\" width=\"700\"/> \n",
    "\n",
    "\n",
    "We see that there are 3 commits there, each with a seemingly random set of numbers and characters. This set of characters is called a \"hash\".\n",
    "\n",
    "The first commit with title `adds addition script` has hash: aab73629642568b9be5ca5faa5e091ea9a629d67.\n",
    "\n",
    "**Note** that on your machines this hash will be different, in fact every hash is mathematically guaranteed to be unique, thus it is uniquely assigned to the changes made.\n",
    "\n",
    "Hashes can be very usefull but we are not going to cover their many uses in this workshop."
   ]
  },
  {
   "cell_type": "markdown",
   "metadata": {},
   "source": [
    "# Creating branches\n",
    "\n",
    "The final part that we will cover in Day I is creating branches. Branches allow us to work in parallel which is very important when developing software, ut also when we do research."
   ]
  },
  {
   "cell_type": "markdown",
   "metadata": {},
   "source": [
    "When typing `git status` we have seen that one piece of information regularly given was:\n",
    "\n",
    "```shell\n",
    "On branch master\n",
    "```\n",
    "\n",
    "This is telling us which branch of \"history\" we are currently on. We can view all branches with the command:\n",
    "\n",
    "```shell\n",
    "$ git branch\n",
    "```\n",
    "\n",
    "This shows:\n",
    "\n",
    "```\n",
    "* master\n",
    "```\n",
    "\n",
    "\n",
    "\n",
    "So currently there is only one branch called master. Let us create a new branch called `implement-add-odd-numbers`:\n",
    "\n",
    "```shell\n",
    "$ git branch implement-add-odd-numbers\n",
    "```\n",
    "\n",
    "When we now type git branch we see that 2 branches exist but the active branch is indicated by *:\n",
    " \n",
    "```\n",
    "implement-add-odd-numbers\n",
    "* master\n",
    "\n",
    "```\n",
    "\n",
    "To move to this new branch the command is:\n",
    "\n",
    "```shell\n",
    "$ git implement-add-odd-numbers\n",
    "```\n",
    "\n",
    "Run `git branch` and then `git status` to see how this has worked."
   ]
  },
  {
   "cell_type": "markdown",
   "metadata": {},
   "source": [
    "While we are on this branch we are going to add a new function in the `addition.py` and that is a function that adds two odd numbers.\n",
    "\n",
    "Add the following code to `addition.py`:\n",
    "\n",
    "```python\n",
    "def add_two_odd_numbers(a, b):\n",
    "    if a % 2 != 0 and b % 2 != 0:\n",
    "        return a + b\n",
    "    print(\"Please use odd numbers.\")\n",
    "\n",
    "print(add_two_odd_numbers(1, 3))\n",
    "\n",
    "```"
   ]
  },
  {
   "cell_type": "markdown",
   "metadata": {},
   "source": [
    "Let us add and commit this:\n",
    "    \n",
    "```shell\n",
    "$ git add addition\n",
    "$ git commit \n",
    "```\n",
    "\n",
    "Commit message:\n",
    "\n",
    "```\n",
    "Implement function for adding odd numbers\n",
    "```"
   ]
  },
  {
   "cell_type": "markdown",
   "metadata": {},
   "source": [
    "Let us now return to the master branch.\n",
    "\n",
    "```shell\n",
    "$ git checkout master\n",
    "```\n",
    "\n",
    "If you open the file `addition.py` you will see that the latest change is not there. That is because this change was done in a different branch.\n",
    "\n",
    "Branches allow us to bring work from different people done in parallel and merged them to the main branch of the repository. This can be done locally using `git` and also on the cloud using GitHub. This is demonstrated in the material of Day II in the GitHub example."
   ]
  },
  {
   "cell_type": "code",
   "execution_count": null,
   "metadata": {},
   "outputs": [],
   "source": []
  }
 ],
 "metadata": {
  "kernelspec": {
   "display_name": "Python 3",
   "language": "python",
   "name": "python3"
  },
  "language_info": {
   "codemirror_mode": {
    "name": "ipython",
    "version": 3
   },
   "file_extension": ".py",
   "mimetype": "text/x-python",
   "name": "python",
   "nbconvert_exporter": "python",
   "pygments_lexer": "ipython3",
   "version": "3.8.3"
  }
 },
 "nbformat": 4,
 "nbformat_minor": 4
}
