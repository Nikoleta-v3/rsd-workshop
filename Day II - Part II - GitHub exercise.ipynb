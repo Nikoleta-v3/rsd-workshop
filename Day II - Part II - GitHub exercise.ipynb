{
 "cells": [
  {
   "cell_type": "markdown",
   "metadata": {},
   "source": [
    "# GitHub exercise\n",
    "\n",
    "The final part of the workshop focuses on implementing a software package for calculating different distance measures. The exercise uses the hosting service GitHub. \n",
    "\n",
    "This part of the workshop covers:\n",
    "\n",
    "- Creating GitHub repositories\n",
    "- Packaging and testing software\n",
    "- Creating pull request\n",
    "- Continuous integration\n",
    "- Lincense\n",
    "- Package documentation\n"
   ]
  },
  {
   "cell_type": "markdown",
   "metadata": {},
   "source": [
    "GitHub is one hosting service but several other exists, for example:\n",
    "\n",
    "- GitLab: https://about.gitlab.com\n",
    "    "
   ]
  },
  {
   "cell_type": "markdown",
   "metadata": {},
   "source": [
    "# Log in GitHub\n",
    "\n",
    "Initially make sure that you are logged in your GitHub account: https://github.com."
   ]
  },
  {
   "cell_type": "markdown",
   "metadata": {},
   "source": [
    "# Create a repository for the project"
   ]
  },
  {
   "cell_type": "markdown",
   "metadata": {},
   "source": [
    "A software repository, or “repo” for short, is a storage location for software packages.\n",
    "\n",
    "To create a repository on GitHub click on \"New\" located at the left side of the home page.\n",
    "\n",
    "<img src=\"static/creating_a_repo_part_one.png\" width=\"1500\"/>"
   ]
  },
  {
   "cell_type": "markdown",
   "metadata": {},
   "source": [
    "Here we are going to create the project's repository.\n",
    "\n",
    "- **Repository name**: distances\n",
    "- **Description**: A package for calculating different distance measures.\n",
    "- **Private**. We are going to create a private repository as this is an artificial exercise.\n",
    "- **Initialize this repository**. GitHub allows us to initialize a repository with a series of standard files. We want to include:\n",
    "    - A README. A README file contains information about other files in a directory or archive of computer software.\n",
    "    - A .gitignore. Select the templete Python\n",
    "    - A lincense. Select the MIT License."
   ]
  },
  {
   "cell_type": "markdown",
   "metadata": {},
   "source": [
    "\n",
    "\n",
    "<img src=\"static/creating_a_repo_part_two.png\" width=\"600\"/>"
   ]
  },
  {
   "cell_type": "markdown",
   "metadata": {},
   "source": [
    "We click `create repository` and this creates our repository."
   ]
  },
  {
   "cell_type": "markdown",
   "metadata": {},
   "source": [
    "# Clone the repository\n",
    "\n",
    "When we create a repository on GitHub, we create a project that exists as a remote repository. We can clone our repositories to create a local copy on our computers and sync between the two locations.\n",
    "\n",
    "To clone a GitHub repository we need to copy it's address: \n",
    "\n",
    "<img src=\"static/repository_s_address.png\" width=\"800\"/> \n",
    "\n",
    "and run the following command in a terminal/command prompt:\n",
    "    \n",
    "```shell\n",
    "$ git clone <the_address_we_just_copied>\n",
    "```\n",
    "\n",
    "Make sure that you run this command while on the location you want to clone the repository.\n",
    "\n",
    "For example if I wanted to clone the repository on my Deskop I would run the following commads:\n",
    "    \n",
    "```shell\n",
    "$ cd Desktop\n",
    "$ git clone https://github.com/Nikoleta-v3/distances.git\n",
    "```"
   ]
  },
  {
   "cell_type": "markdown",
   "metadata": {},
   "source": [
    "# Brach\n",
    "\n",
    "When working on a project we hardly ever work on the `master` branch. Instead we create different branches for working on different parts of a project.\n",
    "\n",
    "So let's create a branch called `implement-distances-package`.\n",
    "\n",
    "```shell\n",
    "$ git branch implement-distances-package\n",
    "$ git checkout implement-distances-package\n",
    "```"
   ]
  },
  {
   "cell_type": "markdown",
   "metadata": {},
   "source": [
    "The repository's structure right now is as follows:\n",
    "\n",
    "```\n",
    "|--- .gitingore\n",
    "|--- LICENSE   \n",
    "|--- README.md\n",
    "```\n",
    "\n",
    "\n",
    "Spend some time now to familirie yourself with the structures and the current files of the repository."
   ]
  },
  {
   "cell_type": "markdown",
   "metadata": {},
   "source": [
    "# Implement the distance function\n",
    "\n",
    "We are now ready to work on the actual task: write a package that calculates distances.\n",
    "\n",
    "**1.** We will create a folder called `distances`. This can be done with the command:\n",
    "\n",
    "```shell\n",
    "$ mkdir distances\n",
    "```\n",
    "\n",
    "**2.** In the folder we just created we are going to add file called `euclidean.py`. This file will contain the code\n",
    "needed to calculate the euclidean distance.\n",
    "\n",
    "Alter the file `euclidean.py` to contain the following lines of code:\n",
    "\n",
    "\n",
    "```python\n",
    "import math \n",
    "\n",
    "def euclidean_distance(u, v):\n",
    "    \"\"\"\n",
    "    Computes the Euclidean distance between two vectos `u` and `v`.\n",
    "\n",
    "    The Euclidean distance between `u` and `v`, is defined as:\n",
    "\n",
    "    \\sqrt{(u_1 - v_1) ^ 2 + ... + (u_n - v_n) ^ 2}\n",
    "\n",
    "    Parameters\n",
    "    ----------\n",
    "    u : list\n",
    "        Input vector.\n",
    "    v : list\n",
    "        Input vector.\n",
    "\n",
    "    Returns\n",
    "    -------\n",
    "    euclidean : double\n",
    "        The Euclidean distance between vectors `u` and `v`.\n",
    "    \"\"\"\n",
    "    distance = 0\n",
    "    \n",
    "    for u_i, v_i in zip(u, v):\n",
    "        distance += (u_i - v_i) ** 2\n",
    "        \n",
    "    return math.sqrt(distance)\n",
    "```\n",
    "\n",
    "**3.** Now that the function is implemented we need to commit the change we did. \n",
    "\n",
    "```shell\n",
    "$ git add distances/euclidean.pu\n",
    "$ git commit\n",
    "```\n",
    "\n",
    "Write the following commit message:\n",
    "\n",
    "```\n",
    "implement euclidean distance\n",
    "```"
   ]
  },
  {
   "cell_type": "markdown",
   "metadata": {},
   "source": [
    "The scture of the repository now should be the following:\n",
    "    \n",
    "```\n",
    "|--- distances\n",
    "    |--- euclidean.py\n",
    "|--- .gitingore\n",
    "|--- LICENSE   \n",
    "|--- README.md\n",
    "```"
   ]
  },
  {
   "cell_type": "markdown",
   "metadata": {},
   "source": [
    "# Test the function"
   ]
  },
  {
   "cell_type": "markdown",
   "metadata": {},
   "source": [
    "Now that we have written the function it is time to use it. Creating a test for an implemented function is a great way to:\n",
    "\n",
    "1. Demistrate it's usage\n",
    "2. Test it's implementation\n",
    "\n",
    "Lets's create a file `test_euclidean.py` at the root of the repository such as the structure now is:\n",
    "\n",
    "```\n",
    "|--- distances\n",
    "    |--- euclidean.py\n",
    "|--- .gitingore\n",
    "|--- LICENSE   \n",
    "|--- README.md\n",
    "|--- test_euclidean.py\n",
    "```\n",
    "\n",
    "Open `test_euclidean.py` with your editor and alter it so that it looks like:\n",
    "\n",
    "```python\n",
    "import distances\n",
    "\n",
    "u = (2, -1)\n",
    "v = (-2, 2)\n",
    "\n",
    "assert distances.euclidean_distance(u, v) == 5\n",
    "```\n",
    "\n",
    "Trying to run this file using the command:\n",
    "\n",
    "```\n",
    "$ python test_euclidean.py\n",
    "```\n",
    "\n",
    "should return the following error:\n",
    "\n",
    "<img src=\"static/running_test_error.png\" width=\"800\"/> \n",
    "\n",
    "\n",
    "In order to let python know that files under the module `distances` we need to creat a file called `__init__.py` which will be under `distances` and will include the following line:\n",
    "\n",
    "```python \n",
    "from .euclidean import euclidean_distance\n",
    "```\n",
    "\n",
    "Now run the command: \n",
    "\n",
    "```\n",
    "$ python test_euclidean.py\n",
    "```\n",
    "\n",
    "again.\n",
    "\n",
    "Let's commit this by typing:\n",
    "\n",
    "```shell\n",
    "$ git add test_euclidean.py\n",
    "$ git add distances/__init__.py\n",
    "```\n",
    "\n",
    "with the following commit:\n",
    "\n",
    "```shell\n",
    "add test for the euclidean distance\n",
    "``"
   ]
  },
  {
   "cell_type": "markdown",
   "metadata": {},
   "source": [
    "# Pytest\n",
    "\n",
    "Python has a package already installed for you that allow us to tst the code by giving us more detals. Alter the code in `test_euclidean.py` to this:\n",
    "    \n",
    "```python\n",
    "import distances\n",
    "\n",
    "def test_euclidean():\n",
    "    u = (2, -1)\n",
    "    v = (-2, 2)\n",
    "\n",
    "    assert distances.euclidean_distance(u, v) == 5\n",
    "```\n",
    "\n",
    "\n",
    "and now use the following command to run the tests:\n",
    "\n",
    "```shell\n",
    "$ pytest test_euclidean.py\n",
    "```\n",
    "\n",
    "This should return something like:\n",
    "\n",
    "\n",
    "Now commit the changes with a message: `use pytest`.\n",
    "\n",
    "The commands are:\n",
    "\n",
    "```\n",
    "$ git add test_euclidean.py\n",
    "$ git commit\n",
    "```\n",
    "  "
   ]
  },
  {
   "cell_type": "markdown",
   "metadata": {},
   "source": [
    "# Document the package\n",
    "\n",
    "It is usefull to let other people know what the purpose of our package is, it's functionality, how to download and test it.\n",
    "\n"
   ]
  },
  {
   "cell_type": "markdown",
   "metadata": {},
   "source": [
    "# Open a pull request"
   ]
  },
  {
   "cell_type": "markdown",
   "metadata": {},
   "source": [
    "Two extra sections that can be covered depending on time."
   ]
  },
  {
   "cell_type": "markdown",
   "metadata": {},
   "source": [
    "# Plug to a CI"
   ]
  },
  {
   "cell_type": "markdown",
   "metadata": {},
   "source": [
    "```shell\n",
    "name: test\n",
    "\n",
    "on:\n",
    "  push:\n",
    "  pull_request:\n",
    "  # Run daily at 0:01 UTC\n",
    "  schedule:\n",
    "  - cron:  '1 0 * * *'\n",
    "\n",
    "jobs:\n",
    "  test:\n",
    "\n",
    "    runs-on: ${{ matrix.os }}\n",
    "    strategy:\n",
    "      matrix:\n",
    "        os: [ubuntu-latest, macOS-latest]\n",
    "        python-version: [3.6, 3.7, 3.8]\n",
    "\n",
    "    steps:\n",
    "    - uses: actions/checkout@master\n",
    "    - name: Set up Python ${{ matrix.python-version }}\n",
    "      uses: actions/setup-python@v1.1.1\n",
    "      with:\n",
    "        python-version: ${{ matrix.python-version }}\n",
    "    - name: Install dependencies\n",
    "      run: |\n",
    "        python -m pip install --upgrade pip setuptools wheel\n",
    "        python -m pip install -r requirements.txt\n",
    "    - name: Lint with Black\n",
    "      if: matrix.python-version == 3.7 && matrix.os == 'ubuntu-latest'\n",
    "      run: |\n",
    "        python -m black --check --diff -l 80 .\n",
    "    - name: Lint imports with isort\n",
    "      if: matrix.python-version == 3.7 && matrix.os == 'ubuntu-latest'\n",
    "      run: |\n",
    "        python -m isort -w 80 -m 3 --trailing-comma --check-only .\n",
    "    - name: Test with pytest \n",
    "      run: |\n",
    "        python -m pytest --cov-report term-missing --cov=src --cov-fail-under=100 tests\n",
    "```"
   ]
  },
  {
   "cell_type": "markdown",
   "metadata": {},
   "source": [
    "# Package software\n",
    "\n",
    "File `setup.py`,\n",
    "\n",
    "```\n",
    "import doctest\n",
    "import os\n",
    "import unittest\n",
    "\n",
    "from setuptools import find_packages, setup\n",
    "\n",
    "\n",
    "setup(\n",
    "    name=\"distances\",\n",
    "    author=\"Nikoleta Glynatsi\",\n",
    "    author_email=(\"glynatsi@blahblah\"),\n",
    "    packages=find_packages(\"distances\"),\n",
    "    url=\"\",\n",
    "    license=\"The MIT License (MIT)\",\n",
    "    description=\"A package to calculate distance measures.\",\n",
    ")\n",
    "```"
   ]
  },
  {
   "cell_type": "code",
   "execution_count": null,
   "metadata": {},
   "outputs": [],
   "source": []
  }
 ],
 "metadata": {
  "kernelspec": {
   "display_name": "Python 3",
   "language": "python",
   "name": "python3"
  },
  "language_info": {
   "codemirror_mode": {
    "name": "ipython",
    "version": 3
   },
   "file_extension": ".py",
   "mimetype": "text/x-python",
   "name": "python",
   "nbconvert_exporter": "python",
   "pygments_lexer": "ipython3",
   "version": "3.8.3"
  }
 },
 "nbformat": 4,
 "nbformat_minor": 4
}
