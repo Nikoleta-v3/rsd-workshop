{
 "cells": [
  {
   "cell_type": "markdown",
   "metadata": {},
   "source": [
    "# Extra \n",
    "\n",
    "Two extra sections that can be covered depending on time."
   ]
  },
  {
   "cell_type": "markdown",
   "metadata": {},
   "source": [
    "# Plug to a CI\n",
    "\n",
    "```shell\n",
    "name: test\n",
    "\n",
    "on:\n",
    "  push:\n",
    "  pull_request:\n",
    "  # Run daily at 0:01 UTC\n",
    "  schedule:\n",
    "  - cron:  '1 0 * * *'\n",
    "\n",
    "jobs:\n",
    "  test:\n",
    "\n",
    "    runs-on: ${{ matrix.os }}\n",
    "    strategy:\n",
    "      matrix:\n",
    "        os: [ubuntu-latest, macOS-latest]\n",
    "        python-version: [3.6, 3.7, 3.8]\n",
    "\n",
    "    steps:\n",
    "    - uses: actions/checkout@master\n",
    "    - name: Set up Python ${{ matrix.python-version }}\n",
    "      uses: actions/setup-python@v1.1.1\n",
    "      with:\n",
    "        python-version: ${{ matrix.python-version }}\n",
    "    - name: Install dependencies\n",
    "      run: |\n",
    "        python -m pip install --upgrade pip setuptools wheel\n",
    "        python -m pip install -r requirements.txt\n",
    "    - name: Lint with Black\n",
    "      if: matrix.python-version == 3.7 && matrix.os == 'ubuntu-latest'\n",
    "      run: |\n",
    "        python -m black --check --diff -l 80 .\n",
    "    - name: Lint imports with isort\n",
    "      if: matrix.python-version == 3.7 && matrix.os == 'ubuntu-latest'\n",
    "      run: |\n",
    "        python -m isort -w 80 -m 3 --trailing-comma --check-only .\n",
    "    - name: Test with pytest \n",
    "      run: |\n",
    "        python -m pytest --cov-report term-missing --cov=src --cov-fail-under=100 tests\n",
    "```"
   ]
  },
  {
   "cell_type": "markdown",
   "metadata": {},
   "source": [
    "# Package software\n",
    "\n",
    "File `setup.py`,\n",
    "\n",
    "```\n",
    "import doctest\n",
    "import os\n",
    "import unittest\n",
    "\n",
    "from setuptools import find_packages, setup\n",
    "\n",
    "\n",
    "setup(\n",
    "    name=\"distances\",\n",
    "    author=\"Nikoleta Glynatsi\",\n",
    "    author_email=(\"glynatsi@blahblah\"),\n",
    "    packages=find_packages(\"distances\"),\n",
    "    url=\"\",\n",
    "    license=\"The MIT License (MIT)\",\n",
    "    description=\"A package to calculate distance measures.\",\n",
    ")\n",
    "```"
   ]
  },
  {
   "cell_type": "code",
   "execution_count": null,
   "metadata": {},
   "outputs": [],
   "source": []
  }
 ],
 "metadata": {
  "kernelspec": {
   "display_name": "Python 3",
   "language": "python",
   "name": "python3"
  },
  "language_info": {
   "codemirror_mode": {
    "name": "ipython",
    "version": 3
   },
   "file_extension": ".py",
   "mimetype": "text/x-python",
   "name": "python",
   "nbconvert_exporter": "python",
   "pygments_lexer": "ipython3",
   "version": "3.8.3"
  }
 },
 "nbformat": 4,
 "nbformat_minor": 4
}
