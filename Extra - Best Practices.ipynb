{
 "cells": [
  {
   "cell_type": "markdown",
   "metadata": {},
   "source": [
    "Best Practices\n",
    "=============\n"
   ]
  },
  {
   "cell_type": "markdown",
   "metadata": {},
   "source": [
    "In this chapter we will consider a number of pillars of software development:\n",
    "\n",
    "- Documentation\n",
    "- Modularisation\n",
    "- Automated testing\n"
   ]
  },
  {
   "cell_type": "markdown",
   "metadata": {},
   "source": [
    "Discussion\n",
    "=========="
   ]
  },
  {
   "cell_type": "code",
   "execution_count": 23,
   "metadata": {},
   "outputs": [],
   "source": [
    "import math \n",
    "\n",
    "def f(u, v):\n",
    "    l = len(u)\n",
    "    s = 0\n",
    "    for i in range(l):\n",
    "        s += (u[i] - v[i]) ** 2\n",
    "    return math.sqrt(s)"
   ]
  },
  {
   "cell_type": "markdown",
   "metadata": {},
   "source": [
    "Consider this function `f`.\n",
    "\n",
    "1. Is it clear for you to understand what the fuction does?\n",
    "2. Would you make any changes to the function so that is easier for you to understand its usage?"
   ]
  },
  {
   "cell_type": "markdown",
   "metadata": {},
   "source": [
    "In software developement documentation is very important. Documentation allows ourselves, our collaborators and the future contributors to understand the usage of written code.\n",
    "\n",
    "There are several ways that we can document source code. The two main ways covered in this workshop are:\n",
    "\n",
    "- A \"manual\" for each part of your code\n",
    "- Meaningful variable and function names "
   ]
  },
  {
   "cell_type": "markdown",
   "metadata": {},
   "source": [
    "**Adding meaningful variable and function names**"
   ]
  },
  {
   "cell_type": "code",
   "execution_count": null,
   "metadata": {},
   "outputs": [],
   "source": [
    "import math \n",
    "\n",
    "def euclidean_distance(u, v):\n",
    "    vector_length = len(u)\n",
    "    distance = 0\n",
    "    for i in range(length):\n",
    "        distance += (u[i] - v[i]) ** 2\n",
    "    return math.sqrt(distance)"
   ]
  },
  {
   "cell_type": "markdown",
   "metadata": {},
   "source": [
    "**Adding a \"manual\" for each part of your code**"
   ]
  },
  {
   "cell_type": "code",
   "execution_count": 26,
   "metadata": {},
   "outputs": [],
   "source": [
    "def euclidean_distance(u, v):\n",
    "    \"\"\"\n",
    "    Computes the Euclidean distance between two vectos `u` and `v`.\n",
    "\n",
    "    The Euclidean distance between `u` and `v`, is defined as:\n",
    "\n",
    "    \\sqrt{(u_1 - v_1) ^ 2 + ... + (u_n - v_n) ^ 2}\n",
    "\n",
    "    Parameters\n",
    "    ----------\n",
    "    u : list\n",
    "        Input vector.\n",
    "    v : list\n",
    "        Input vector.\n",
    "\n",
    "    Returns\n",
    "    -------\n",
    "    euclidean : double\n",
    "        The Euclidean distance between vectors `u` and `v`.\n",
    "    \"\"\"\n",
    "    vector_length = len(u)\n",
    "    distance = 0\n",
    "    for i in range(length):\n",
    "        distance += (u[i] - v[i]) ** 2\n",
    "    return math.sqrt(distance)"
   ]
  },
  {
   "cell_type": "markdown",
   "metadata": {},
   "source": [
    "**Adding Pythonic tweaks**"
   ]
  },
  {
   "cell_type": "code",
   "execution_count": 27,
   "metadata": {},
   "outputs": [],
   "source": [
    "def euclidean_distance(u, v):\n",
    "    \"\"\"\n",
    "    Computes the Euclidean distance between two vectos `u` and `v`.\n",
    "\n",
    "    The Euclidean distance between `u` and `v`, is defined as:\n",
    "\n",
    "    \\sqrt{(u_1 - v_1) ^ 2 + ... + (u_n - v_n) ^ 2}\n",
    "\n",
    "    Parameters\n",
    "    ----------\n",
    "    u : list\n",
    "        Input vector.\n",
    "    v : list\n",
    "        Input vector.\n",
    "\n",
    "    Returns\n",
    "    -------\n",
    "    euclidean : double\n",
    "        The Euclidean distance between vectors `u` and `v`.\n",
    "    \"\"\"\n",
    "    distance = 0\n",
    "    \n",
    "    for u_i, v_i in zip(u, v):\n",
    "        distance += (u_i - v_i) ** 2\n",
    "        \n",
    "    return math.sqrt(distance)\n",
    "\n"
   ]
  },
  {
   "cell_type": "markdown",
   "metadata": {},
   "source": [
    "Considering now the function `euclidean_distance` how can we be sure that it is correct?"
   ]
  },
  {
   "cell_type": "code",
   "execution_count": null,
   "metadata": {},
   "outputs": [],
   "source": []
  },
  {
   "cell_type": "markdown",
   "metadata": {},
   "source": [
    "This section is a maybe right now. It's on modularization."
   ]
  },
  {
   "cell_type": "code",
   "execution_count": 21,
   "metadata": {},
   "outputs": [],
   "source": [
    "def f(u, v, isM, isE, isH):\n",
    "    \n",
    "    if isM == 1:\n",
    "        l = len(u)\n",
    "        s = 0\n",
    "        for i in range(l):\n",
    "            s += abs(u[i] - v[i])\n",
    "        return s\n",
    "    \n",
    "    if isE == 1:\n",
    "        l = len(u)\n",
    "        s = 0\n",
    "        for i in range(l):\n",
    "            s += (u[i] - v[i]) ** 2\n",
    "        return math.sqrt(s)\n",
    "        \n",
    "    if isH == 1:\n",
    "        l = len(u)\n",
    "        d = 0\n",
    "        for i in range(l):\n",
    "            if u[i] != v[i]:\n",
    "                d += 1\n",
    "        return d / l"
   ]
  },
  {
   "cell_type": "code",
   "execution_count": null,
   "metadata": {},
   "outputs": [],
   "source": [
    "def hammilton_distance(u, v):\n",
    "    \"\"\"\n",
    "    Computes the Euclidean distance between two vectos `u` and `v`.\n",
    "\n",
    "    The Euclidean distance between `u` and `v`, is defined as:\n",
    "\n",
    "    \\sqrt{(u_1 - v_1) ^ 2 + ... + (u_n - v_n) ^ 2}\n",
    "\n",
    "    Parameters\n",
    "    ----------\n",
    "    u : list\n",
    "        Input vector.\n",
    "    v : list\n",
    "        Input vector.\n",
    "\n",
    "    Returns\n",
    "    -------\n",
    "    euclidean : double\n",
    "        The Euclidean distance between vectors `u` and `v`.\n",
    "    \"\"\"\n",
    "    distance = 0\n",
    "    \n",
    "    for u_i, v_i in zip(u, v):\n",
    "        distance += (u_i - v_i) ** 2\n",
    "        \n",
    "    return math.sqrt(distance)"
   ]
  },
  {
   "cell_type": "code",
   "execution_count": null,
   "metadata": {},
   "outputs": [],
   "source": [
    "def manhattan_distance(u, v):\n",
    "    \"\"\"\n",
    "    Computes the Euclidean distance between two vectos `u` and `v`.\n",
    "\n",
    "    The Euclidean distance between `u` and `v`, is defined as:\n",
    "\n",
    "    \\sqrt{(u_1 - v_1) ^ 2 + ... + (u_n - v_n) ^ 2}\n",
    "\n",
    "    Parameters\n",
    "    ----------\n",
    "    u : list\n",
    "        Input vector.\n",
    "    v : list\n",
    "        Input vector.\n",
    "\n",
    "    Returns\n",
    "    -------\n",
    "    euclidean : double\n",
    "        The Euclidean distance between vectors `u` and `v`.\n",
    "    \"\"\"\n",
    "    distance = 0\n",
    "    \n",
    "    for u_i, v_i in zip(u, v):\n",
    "        distance += (u_i - v_i) ** 2\n",
    "        \n",
    "    return math.sqrt(distance)"
   ]
  },
  {
   "cell_type": "code",
   "execution_count": null,
   "metadata": {},
   "outputs": [],
   "source": [
    "def get_distance():\n",
    "    "
   ]
  }
 ],
 "metadata": {
  "kernelspec": {
   "display_name": "Python 3",
   "language": "python",
   "name": "python3"
  },
  "language_info": {
   "codemirror_mode": {
    "name": "ipython",
    "version": 3
   },
   "file_extension": ".py",
   "mimetype": "text/x-python",
   "name": "python",
   "nbconvert_exporter": "python",
   "pygments_lexer": "ipython3",
   "version": "3.8.3"
  }
 },
 "nbformat": 4,
 "nbformat_minor": 4
}
