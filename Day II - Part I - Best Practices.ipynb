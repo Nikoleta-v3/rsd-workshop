{
 "cells": [
  {
   "cell_type": "markdown",
   "metadata": {},
   "source": [
    "Best Practices\n",
    "=============\n"
   ]
  },
  {
   "cell_type": "markdown",
   "metadata": {},
   "source": [
    "In this chapter we will discuss about a number of pillars of software development:\n",
    "\n",
    "- Documentation\n",
    "- Modularisation\n",
    "- Automated testing\n"
   ]
  },
  {
   "cell_type": "markdown",
   "metadata": {},
   "source": [
    "Documentation\n",
    "=========="
   ]
  },
  {
   "cell_type": "code",
   "execution_count": 23,
   "metadata": {},
   "outputs": [],
   "source": [
    "import math \n",
    "\n",
    "def f(u, v):\n",
    "    l = len(u)\n",
    "    s = 0\n",
    "    for i in range(l):\n",
    "        s += (u[i] - v[i]) ** 2\n",
    "    return math.sqrt(s)"
   ]
  },
  {
   "cell_type": "markdown",
   "metadata": {},
   "source": [
    "Consider this function `f`.\n",
    "\n",
    "1. Is it clear for you to understand what the fuction does?\n",
    "2. Would you make any changes to the function so that is easier for you to understand its usage?"
   ]
  },
  {
   "cell_type": "markdown",
   "metadata": {},
   "source": [
    "In software developement documentation is very important. Documentation allows ourselves, our collaborators and the future contributors to understand the usage of written code.\n",
    "\n",
    "There are several ways that we can document source code. The two main ways covered in this workshop are:\n",
    "\n",
    "- A \"manual\" for each part of your code\n",
    "- Meaningful variable and function names "
   ]
  },
  {
   "cell_type": "markdown",
   "metadata": {},
   "source": [
    "**Adding meaningful variable and function names**"
   ]
  },
  {
   "cell_type": "code",
   "execution_count": null,
   "metadata": {},
   "outputs": [],
   "source": [
    "import math \n",
    "\n",
    "def euclidean_distance(u, v):\n",
    "    vector_length = len(u)\n",
    "    distance = 0\n",
    "    for i in range(length):\n",
    "        distance += (u[i] - v[i]) ** 2\n",
    "    return math.sqrt(distance)"
   ]
  },
  {
   "cell_type": "markdown",
   "metadata": {},
   "source": [
    "**Adding a \"manual\" for each part of your code**"
   ]
  },
  {
   "cell_type": "code",
   "execution_count": 5,
   "metadata": {},
   "outputs": [],
   "source": [
    "import math \n",
    "\n",
    "def euclidean_distance(u, v):\n",
    "    \"\"\"\n",
    "    Computes the Euclidean distance between two vectos `u` and `v`.\n",
    "\n",
    "    The Euclidean distance between `u` and `v`, is defined as:\n",
    "\n",
    "    \\sqrt{(u_1 - v_1) ^ 2 + ... + (u_n - v_n) ^ 2}\n",
    "\n",
    "    Parameters\n",
    "    ----------\n",
    "    u : list\n",
    "        Input vector.\n",
    "    v : list\n",
    "        Input vector.\n",
    "\n",
    "    Returns\n",
    "    -------\n",
    "    euclidean : double\n",
    "        The Euclidean distance between vectors `u` and `v`.\n",
    "    \"\"\"\n",
    "    vector_length = len(u)\n",
    "    distance = 0\n",
    "    for i in range(length):\n",
    "        distance += (u[i] - v[i]) ** 2\n",
    "    return math.sqrt(distance)"
   ]
  },
  {
   "cell_type": "markdown",
   "metadata": {},
   "source": [
    "**Adding Pythonic tweaks**"
   ]
  },
  {
   "cell_type": "code",
   "execution_count": 7,
   "metadata": {},
   "outputs": [],
   "source": [
    "import math \n",
    "\n",
    "def euclidean_distance(u, v):\n",
    "    \"\"\"\n",
    "    Computes the Euclidean distance between two vectos `u` and `v`.\n",
    "\n",
    "    The Euclidean distance between `u` and `v`, is defined as:\n",
    "\n",
    "    \\sqrt{(u_1 - v_1) ^ 2 + ... + (u_n - v_n) ^ 2}\n",
    "\n",
    "    Parameters\n",
    "    ----------\n",
    "    u : list\n",
    "        Input vector.\n",
    "    v : list\n",
    "        Input vector.\n",
    "\n",
    "    Returns\n",
    "    -------\n",
    "    euclidean : double\n",
    "        The Euclidean distance between vectors `u` and `v`.\n",
    "    \"\"\"\n",
    "    distance = 0\n",
    "    \n",
    "    for u_i, v_i in zip(u, v):\n",
    "        distance += (u_i - v_i) ** 2\n",
    "        \n",
    "    return math.sqrt(distance)\n",
    "\n"
   ]
  },
  {
   "cell_type": "markdown",
   "metadata": {},
   "source": [
    "# Testing"
   ]
  },
  {
   "cell_type": "markdown",
   "metadata": {},
   "source": [
    "Considering now the function `euclidean_distance` how can we be sure that it is correct?\n",
    "\n",
    "We know that the euclidean distance of the two vectors $u = (2, -1)$ and $v = (-2, 2)$ is:\n",
    "\n",
    "$$\n",
    "\\begin{align}\n",
    "dist((2, -1), (-2, 2)) = &  \\sqrt{{(2 - (-2))} ^ 2 + {((-1) - 2)} ^ 2} \\\\\n",
    "= & \\sqrt{(4)^2 + (-3)^2} \\\\\n",
    "= & \\sqrt{16} + \\sqrt{9} \\\\\n",
    "= & \\sqrt{25} \\\\\n",
    "= & 5.\n",
    "\\end{align}\n",
    "$$"
   ]
  },
  {
   "cell_type": "code",
   "execution_count": 8,
   "metadata": {},
   "outputs": [
    {
     "data": {
      "text/plain": [
       "5.0"
      ]
     },
     "execution_count": 8,
     "metadata": {},
     "output_type": "execute_result"
    }
   ],
   "source": [
    "u = (2, -1)\n",
    "v = (-2, 2)\n",
    "\n",
    "euclidean_distance(u, v)"
   ]
  },
  {
   "cell_type": "code",
   "execution_count": 9,
   "metadata": {},
   "outputs": [],
   "source": [
    "assert euclidean_distance(u, v) == 5"
   ]
  },
  {
   "cell_type": "markdown",
   "metadata": {},
   "source": [
    "# Modularization"
   ]
  },
  {
   "cell_type": "markdown",
   "metadata": {},
   "source": [
    "Consider now this function `f` and repeat the discussion.\n",
    "\n",
    "1. Is it clear for you to understand what the fuction does?\n",
    "2. Would you make any changes to the function so that is easier for you to understand its usage?"
   ]
  },
  {
   "cell_type": "code",
   "execution_count": 47,
   "metadata": {},
   "outputs": [],
   "source": [
    "def f(u, v, isM, isE):\n",
    "    \n",
    "    if isM == 1:\n",
    "        l = len(u)\n",
    "        s = 0\n",
    "        for i in range(l):\n",
    "            s += abs(u[i] - v[i])\n",
    "        return s\n",
    "    \n",
    "    if isE == 1:\n",
    "        l = len(u)\n",
    "        s = 0\n",
    "        for i in range(l):\n",
    "            s += (u[i] - v[i]) ** 2\n",
    "        return math.sqrt(s)"
   ]
  },
  {
   "cell_type": "markdown",
   "metadata": {},
   "source": [
    "Documentation is an improtant practice which makes computer code more understable. A further important practice is modularization. Modularization does not only make code more readable, but it is also easier to test modularized code."
   ]
  },
  {
   "cell_type": "code",
   "execution_count": 48,
   "metadata": {},
   "outputs": [],
   "source": [
    "def manhattan_distance(u, v):\n",
    "    \"\"\"\n",
    "    Computes the Manhattan distance (Taxicab distance) between two vectos `u` and `v`.\n",
    "    \n",
    "    The Manhattan distance between `u` and `v`, is defined as:\n",
    "\n",
    "    \\sum_{i=1}^{N}|u_i – v_i|\n",
    "\n",
    "    Parameters\n",
    "    ----------\n",
    "    u : list\n",
    "        Input vector.\n",
    "    v : list\n",
    "        Input vector.\n",
    "\n",
    "    Returns\n",
    "    -------\n",
    "    manhattan : double\n",
    "        The Manhattan distance between vectors `u` and `v`.\n",
    "    \"\"\"\n",
    "    distance = 0\n",
    "    for u_i, v_i in zip(u, v):\n",
    "        distance += abs(u_i - v_i)\n",
    "        \n",
    "    return distance"
   ]
  },
  {
   "cell_type": "code",
   "execution_count": 49,
   "metadata": {},
   "outputs": [],
   "source": [
    "def get_distance(u, v, mode):\n",
    "    if mode == \"euclidean\":\n",
    "        return euclidean_distance(u, v)\n",
    "        \n",
    "    if mode == \"manhattan\":\n",
    "        return manhattan_distance(u, v)\n",
    "    \n",
    "    return 'Please use a feasible mode.'\n"
   ]
  },
  {
   "cell_type": "code",
   "execution_count": 37,
   "metadata": {},
   "outputs": [],
   "source": [
    "u = [10, 20, 15, 10, 5]\n",
    "v = [12, 24, 18, 8, 7]"
   ]
  },
  {
   "cell_type": "code",
   "execution_count": 39,
   "metadata": {},
   "outputs": [],
   "source": [
    "assert manhattan_distance(u, v) == 13"
   ]
  },
  {
   "cell_type": "code",
   "execution_count": 35,
   "metadata": {},
   "outputs": [],
   "source": [
    "assert euclidean_distance(u, v) == 6.082762530298219"
   ]
  },
  {
   "cell_type": "code",
   "execution_count": 43,
   "metadata": {},
   "outputs": [],
   "source": [
    "import numpy as np\n",
    "\n",
    "assert np.isclose(euclidean_distance(u, v), 6.0827, rtol=1e-03)"
   ]
  },
  {
   "cell_type": "code",
   "execution_count": 44,
   "metadata": {},
   "outputs": [],
   "source": [
    "assert get_distance(u, v, mode='euclidean') == euclidean_distance(u, v)"
   ]
  },
  {
   "cell_type": "code",
   "execution_count": 45,
   "metadata": {},
   "outputs": [],
   "source": [
    "assert get_distance(u, v, mode='manhattan') == manhattan_distance(u, v)"
   ]
  },
  {
   "cell_type": "markdown",
   "metadata": {},
   "source": [
    "**Example with three distance measures**"
   ]
  },
  {
   "cell_type": "code",
   "execution_count": 17,
   "metadata": {},
   "outputs": [],
   "source": [
    "def hamming_distance(u, v):\n",
    "    \"\"\"\n",
    "    Computes the Hamming distance between two strings `u` and `v`.\n",
    "\n",
    "    The Hamming distance between two equal-length strings of symbols\n",
    "    is the number of positions at which the corresponding symbols are\n",
    "    different.\n",
    "\n",
    "    Parameters\n",
    "    ----------\n",
    "    u : string\n",
    "        Input string.\n",
    "    v : string\n",
    "        Input string.\n",
    "\n",
    "    Returns\n",
    "    -------\n",
    "    hamming : double\n",
    "        The Hamming distance between strings `u` and `v`.\n",
    "    \"\"\"\n",
    "    distance = 0\n",
    "    \n",
    "    for element_one, element_two in zip(u, v):\n",
    "        if element_one != element_two:\n",
    "            distance += 1\n",
    "    return distance"
   ]
  },
  {
   "cell_type": "code",
   "execution_count": 18,
   "metadata": {},
   "outputs": [],
   "source": [
    "def get_distance(u, v, mode):\n",
    "    if mode == \"euclidean\":\n",
    "        return euclidean_distance(u, v)\n",
    "        \n",
    "    if mode == \"hamming\":\n",
    "        return hamming_distance(u, v)\n",
    "        \n",
    "    if mode == \"manhattan\":\n",
    "        return manhattan_distance(u, v)\n",
    "    \n",
    "    return 'Please use a feasible mode.'\n"
   ]
  }
 ],
 "metadata": {
  "kernelspec": {
   "display_name": "Python 3",
   "language": "python",
   "name": "python3"
  },
  "language_info": {
   "codemirror_mode": {
    "name": "ipython",
    "version": 3
   },
   "file_extension": ".py",
   "mimetype": "text/x-python",
   "name": "python",
   "nbconvert_exporter": "python",
   "pygments_lexer": "ipython3",
   "version": "3.8.5"
  }
 },
 "nbformat": 4,
 "nbformat_minor": 4
}
