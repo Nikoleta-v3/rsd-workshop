{
 "cells": [
  {
   "cell_type": "markdown",
   "metadata": {},
   "source": [
    "# Introduction to git"
   ]
  },
  {
   "cell_type": "markdown",
   "metadata": {},
   "source": [
    "**Version control** is a system which:\n",
    "\n",
    "- records all files that make up a project (down to the line) over time\n",
    "- tracks their development\n",
    "- provides the ability to recall previous versions of files.\n",
    "\n",
    "This type of system is essential for ensuring reproducibility of scientific research\n",
    "\n",
    "There are a number of popular tools for version control, the particular tool we will use is **git**."
   ]
  },
  {
   "cell_type": "markdown",
   "metadata": {},
   "source": [
    "# Setting up git\n",
    "\n",
    "Initially we need to set up git. \n",
    "\n",
    "git keeps track of the entire history of a project. This does not only mean keeping track of what was done but also who did it. So we start by telling git who we are by running the following two commands:\n",
    "\n",
    "```shell\n",
    "$ git config --global user.name \"Your Name\"\n",
    "$ git config --global user.email \"Your Email\"\n",
    "```\n",
    "\n",
    "**Note** this is not data that is being collected by any cloud service or similar. It just stays with your project.\n",
    "\n",
    "**Windows**\n",
    "Note that all these commands work on the anaconda prompt but if you want to use tab completion you can use the git bash command line specifically for git."
   ]
  },
  {
   "cell_type": "markdown",
   "metadata": {},
   "source": [
    "# Initialising a git repository\n",
    "\n",
    "In order to demonstrate how version control with git works we are going to use the `rsd-workshop` folder we created before.\n",
    "\n",
    "We need tell git to start keeping an eye on this repository (folder/project). While in the `rsd-workshop` directory type:\n",
    "\n",
    "```shell\n",
    "$ git init\n",
    "```\n",
    "\n",
    "You should then see a message saying that you have successfully initialised a git repository."
   ]
  },
  {
   "cell_type": "markdown",
   "metadata": {},
   "source": [
    "# Staging and committing changes\n",
    "\n",
    "To see the status of the repository we just initialised type:\n",
    " \n",
    "```shell\n",
    "$ git status\n",
    "```\n",
    "\n",
    "We should see something like:\n",
    "\n",
    "<img src=\"static/git_status.png\" width=\"600\"/>"
   ]
  },
  {
   "cell_type": "markdown",
   "metadata": {},
   "source": [
    "There are various pieces of useful information here, first of all `add.py` is not currently a tracked file.\n",
    "\n",
    "We are now going to track that file:\n",
    "\n",
    "```shell\n",
    "$ git add add.py\n",
    "```\n",
    "\n",
    "If we run git status again we see:\n",
    "\n",
    "<img src=\"static/git_status_after_add.png\" width=\"600\"/> "
   ]
  },
  {
   "cell_type": "markdown",
   "metadata": {},
   "source": [
    "So the `add.py` file is now ready to be \"committed\".\n",
    "\n",
    "```shell\n",
    "$ git commit\n",
    "```\n",
    "\n",
    "When doing this, a text editor should open up prompting you to write what is called a commit message. Your machine will probably have one of the following command line editors set up as a default:\n",
    "\n",
    "- [Nano](https://www.nano-editor.org)\n",
    "- [Vim](https://www.vim.org)\n",
    "\n",
    "For the purposes of using git these are more than sufficient, all you need to know how to do is:\n",
    "\n",
    "- Write (in Nano: just type, in Vim: press i and type);\n",
    "- Save (in Nano: Ctrl + O, in Vim: press esc, then :, then w + Enter);\n",
    "- Quit (in Nano: Ctrl + X, in Vim: press esc, then :, then q + Enter).\n",
    "\n",
    "**Note** it is possible to set up a different default editor but instructions for this can be machine specific."
   ]
  },
  {
   "cell_type": "markdown",
   "metadata": {},
   "source": [
    "Type the following as the first commit message:\n",
    "\n",
    "```shell\n",
    "add simple python script which prints the sum of 1 + 1\n",
    "```\n",
    "\n",
    "save and exit.\n",
    "\n",
    "git should confirm that you have successfully made your first commit.\n",
    "\n",
    "\n",
    "<img src=\"static/git_commit.png\" width=\"700\"/> \n"
   ]
  },
  {
   "cell_type": "code",
   "execution_count": null,
   "metadata": {},
   "outputs": [],
   "source": []
  }
 ],
 "metadata": {
  "kernelspec": {
   "display_name": "Python 3",
   "language": "python",
   "name": "python3"
  },
  "language_info": {
   "codemirror_mode": {
    "name": "ipython",
    "version": 3
   },
   "file_extension": ".py",
   "mimetype": "text/x-python",
   "name": "python",
   "nbconvert_exporter": "python",
   "pygments_lexer": "ipython3",
   "version": "3.8.3"
  }
 },
 "nbformat": 4,
 "nbformat_minor": 4
}
