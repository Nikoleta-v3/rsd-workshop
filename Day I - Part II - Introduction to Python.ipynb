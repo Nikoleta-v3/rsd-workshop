{
 "cells": [
  {
   "cell_type": "markdown",
   "metadata": {},
   "source": [
    "# Introduction to Python\n",
    "\n",
    "The are several ways to run a python script. That is true for other programming languages as well.\n",
    "One way is to use the Python interpreter."
   ]
  },
  {
   "cell_type": "markdown",
   "metadata": {},
   "source": [
    "# Using the Python interpreter\n",
    "\n",
    "In the command line type:\n",
    "\n",
    "```shell\n",
    "$ python\n",
    "```\n",
    "\n",
    "If you are on Windows and using `git bash` then type:\n",
    "\n",
    "```shell\n",
    "$ ipython\n",
    "```\n",
    "\n",
    "This will start a prompt that looks something like:\n",
    "\n",
    "\n",
    "![](static/python_interpreter.png)\n"
   ]
  },
  {
   "cell_type": "markdown",
   "metadata": {},
   "source": [
    "The `>>>` indicates point at which you can type python code.\n",
    "\n",
    "Type `2 + 2` and press enter. You can see what this looks like below:\n",
    "    \n",
    "```python\n",
    ">>> 2 + 2\n",
    "4\n",
    "```"
   ]
  },
  {
   "cell_type": "markdown",
   "metadata": {},
   "source": [
    "# Creating numeric variables\n",
    "\n",
    "We can assign variables to values using the `=` operator:\n",
    "\n",
    "```python\n",
    ">>> the_meaning_of_life = 42\n",
    ">>> the_meaning_of_life = the_meaning_of_life + 2\n",
    ">>> the_meaning_of_life\n",
    "44\n",
    "\n",
    "```"
   ]
  },
  {
   "cell_type": "markdown",
   "metadata": {},
   "source": [
    "# Creating boolean variables\n",
    "\n",
    "We can create boolean values using a number of comparison operators which include:\n",
    "\n",
    "- `==` equals\n",
    "- `!=` not equals\n",
    "- `>` strictly greater\n",
    "- `>=` greater than or equal\n",
    "\n",
    "```python\n",
    ">>> is_42 = the_meaning_of_life == 42\n",
    ">>> is_42\n",
    "False\n",
    ">>> greater_than_42 = the_meaning_of_life > 42\n",
    ">>> greater_than_42\n",
    "True\n",
    "\n",
    "\n",
    "```"
   ]
  },
  {
   "cell_type": "markdown",
   "metadata": {},
   "source": [
    "# Creating list variables\n",
    "\n",
    "Python has an indexable structure called lists:\n",
    "\n",
    "```python\n",
    ">>> numbers = [1, 2, 4, 5]\n",
    ">>> max(numbers)\n",
    "5\n",
    ">>> min(numbers)\n",
    "1\n",
    ">>> sum(numbers)\n",
    "12\n",
    ">>> numbers[0]\n",
    "1\n",
    ">>> numbers[-2]\n",
    "4\n",
    ">>> numbers.append(50)\n",
    ">>> numbers\n",
    "[1, 2, 4, 5, 50]\n",
    "```"
   ]
  },
  {
   "cell_type": "markdown",
   "metadata": {},
   "source": [
    "To close the python interpreter type:\n",
    "    \n",
    "```shell\n",
    "$ exit()\n",
    "```"
   ]
  },
  {
   "cell_type": "markdown",
   "metadata": {},
   "source": [
    "# Using Python scripts\n",
    "\n",
    "Another way to run Python is using a script and the command line.\n",
    "Python scripts are used when writing more sophisticated code (software).\n"
   ]
  },
  {
   "cell_type": "markdown",
   "metadata": {},
   "source": [
    "Open the `addition.py` file (we created before) using the editor you downloaded (for example VS code) for this workshop.\n",
    "\n",
    "Edit the `addition.py` so that it looks like this:\n",
    "    \n",
    "```python\n",
    "print(1 + 1)\n",
    "```\n",
    "\n",
    "and save."
   ]
  },
  {
   "cell_type": "markdown",
   "metadata": {},
   "source": [
    "While making sure you are in the `rsd-workshop`, which you can check using the command:\n",
    "\n",
    "```shell\n",
    "$ cd\n",
    "```\n",
    "\n",
    "or \n",
    "\n",
    "```shell\n",
    "$ pwd\n",
    "```\n",
    "\n",
    "use the following command to run the python script `addition.py`:\n",
    "\n",
    "```shell\n",
    "$ python addition.py\n",
    "```"
   ]
  },
  {
   "cell_type": "markdown",
   "metadata": {},
   "source": [
    "# If statements\n",
    "\n",
    "Let's create another Python file called `if-statements.py`. This can be done either by using the `echo`/`touch` command or from your editor `File > New file`.\n",
    "\n",
    "Include the following code in the file:\n",
    "\n",
    "```python\n",
    "N = 572\n",
    "if N % 2 == 0:\n",
    "    print(\"N is even\")\n",
    "else:\n",
    "    print(\"N is odd\")\n",
    "```\n",
    "\n",
    "and then run it (type):\n",
    "\n",
    "```shell\n",
    "$ python if-statements.py\n",
    "```\n",
    "\n",
    "**Note** white space and indentation is important in python. The indented code block indicate what code to execute if the boolean variable `N % 2 == 0` is True."
   ]
  },
  {
   "cell_type": "markdown",
   "metadata": {},
   "source": [
    "# While loops\n",
    "\n",
    "It is possible to repeat code using while loops which will repeatedly check a boolean variable.\n",
    "\n",
    "Create a file called `while-loops.py`, include the following code and run it.\n",
    "\n",
    "```python\n",
    "N = 0\n",
    "even_number_count = 0\n",
    "while N < 10:\n",
    "    if N % 2 == 0:\n",
    "        even_number_count = even_number_count + 1\n",
    "    N += 1\n",
    "print(even_number_count)\n",
    "```"
   ]
  },
  {
   "cell_type": "markdown",
   "metadata": {},
   "source": [
    "# Functions\n",
    "\n",
    "It is possible to create functions in Python.\n",
    "\n",
    "Open the file `addition.py` and we are going to implement a function which adds two input numbers.\n",
    "\n",
    "Your `addition.py` should look like:\n",
    "\n",
    "\n",
    "```python\n",
    "def add_two_numbers(a, b):\n",
    "    return a + b\n",
    "\n",
    "print(add_two_numbers(1, 3))\n",
    "```\n",
    "\n",
    "\n",
    "save and run:\n",
    "\n",
    "```shell\n",
    "$ python addition.py\n",
    "```"
   ]
  },
  {
   "cell_type": "code",
   "execution_count": null,
   "metadata": {},
   "outputs": [],
   "source": []
  }
 ],
 "metadata": {
  "kernelspec": {
   "display_name": "Python 3",
   "language": "python",
   "name": "python3"
  },
  "language_info": {
   "codemirror_mode": {
    "name": "ipython",
    "version": 3
   },
   "file_extension": ".py",
   "mimetype": "text/x-python",
   "name": "python",
   "nbconvert_exporter": "python",
   "pygments_lexer": "ipython3",
   "version": "3.8.3"
  }
 },
 "nbformat": 4,
 "nbformat_minor": 4
}
